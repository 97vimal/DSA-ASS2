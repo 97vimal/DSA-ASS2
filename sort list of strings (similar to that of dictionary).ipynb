{
 "cells": [
  {
   "cell_type": "code",
   "execution_count": 1,
   "id": "594076c0",
   "metadata": {},
   "outputs": [],
   "source": [
    "#  a program to sort list of strings (similar to that of dictionary)"
   ]
  },
  {
   "cell_type": "code",
   "execution_count": null,
   "id": "ecc1b797",
   "metadata": {},
   "outputs": [],
   "source": [
    "\n",
    "a=[]\n",
    "n=int(input(\"enter size of the list:\"))\n",
    "for i in range(n):\n",
    "    val=input(\"enter strings in a list:\")\n",
    "    a.append(val)\n",
    "\n",
    "\n",
    "\n",
    "print(\"\\nList of strings Before sorting:\")\n",
    "print(a)\n",
    "# sorting the list in ascending order\n",
    "a.sort()\n",
    "# printing the sorted list\n",
    "print(\"\\nList of strings after sorting:\")\n",
    "print(a)"
   ]
  },
  {
   "cell_type": "code",
   "execution_count": null,
   "id": "17cc033c",
   "metadata": {},
   "outputs": [],
   "source": []
  }
 ],
 "metadata": {
  "kernelspec": {
   "display_name": "Python 3 (ipykernel)",
   "language": "python",
   "name": "python3"
  },
  "language_info": {
   "codemirror_mode": {
    "name": "ipython",
    "version": 3
   },
   "file_extension": ".py",
   "mimetype": "text/x-python",
   "name": "python",
   "nbconvert_exporter": "python",
   "pygments_lexer": "ipython3",
   "version": "3.9.7"
  }
 },
 "nbformat": 4,
 "nbformat_minor": 5
}
