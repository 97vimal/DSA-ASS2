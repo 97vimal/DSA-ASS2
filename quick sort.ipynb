{
 "cells": [
  {
   "cell_type": "code",
   "execution_count": 1,
   "id": "c2e68a84",
   "metadata": {},
   "outputs": [],
   "source": [
    "#Implement Quick Sort\n"
   ]
  },
  {
   "cell_type": "code",
   "execution_count": null,
   "id": "9830fcc7",
   "metadata": {},
   "outputs": [],
   "source": [
    "\n",
    "\n",
    "def quicksort(arr, start, end):\n",
    "    \n",
    "    if end - start > 1:\n",
    "        p = partition(arr, start, end)\n",
    "        quicksort(arr, start, p)\n",
    "        quicksort(arr, p + 1, end)\n",
    " \n",
    " \n",
    "def partition(arr, start, end):\n",
    "    pivot = arr[start]\n",
    "    i = start + 1\n",
    "    j = end - 1\n",
    " \n",
    "    while True:\n",
    "        while (i <= j and arr[i] <= pivot):\n",
    "            i = i + 1\n",
    "        while (i <= j and arr[j] >= pivot):\n",
    "            j = j - 1\n",
    " \n",
    "        if i <= j:\n",
    "           arr[i], arr[j] = arr[j], arr[i]\n",
    "        else:\n",
    "            arr[start], arr[j] = arr[j], arr[start]\n",
    "            return j\n",
    " \n",
    " \n",
    "arr = input('Enter the numbers of list to be Sort with space between them: ').split()\n",
    "arr = [int(x) for x in arr]\n",
    "quicksort(arr, 0, len(arr))\n",
    "print('Sorted list: ', end='')\n",
    "print(arr)"
   ]
  },
  {
   "cell_type": "code",
   "execution_count": null,
   "id": "d4b0a3eb",
   "metadata": {},
   "outputs": [],
   "source": []
  }
 ],
 "metadata": {
  "kernelspec": {
   "display_name": "Python 3 (ipykernel)",
   "language": "python",
   "name": "python3"
  },
  "language_info": {
   "codemirror_mode": {
    "name": "ipython",
    "version": 3
   },
   "file_extension": ".py",
   "mimetype": "text/x-python",
   "name": "python",
   "nbconvert_exporter": "python",
   "pygments_lexer": "ipython3",
   "version": "3.9.7"
  }
 },
 "nbformat": 4,
 "nbformat_minor": 5
}
