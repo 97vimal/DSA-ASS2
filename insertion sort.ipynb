{
 "cells": [
  {
   "cell_type": "code",
   "execution_count": 1,
   "id": "30ad08fe",
   "metadata": {},
   "outputs": [],
   "source": [
    "# Implement insertion Sort"
   ]
  },
  {
   "cell_type": "code",
   "execution_count": null,
   "id": "b8b0df07",
   "metadata": {},
   "outputs": [],
   "source": [
    "\n",
    "a=[]\n",
    "n=int(input(\"enter size of the list:\"))\n",
    "for i in range(n):\n",
    "    val=int(input(\"enter number:\"))\n",
    "    a.append(val)\n",
    "    \n",
    "for i in range(1,n):\n",
    "    t=a[i]\n",
    "    j=i-1\n",
    "    while j>=0 and t<a[j]:\n",
    "        a[j+1]=a[j]\n",
    "        j=j-1\n",
    "        a[j+1]=t\n",
    "print(\"sorted list is:\")\n",
    "print(a)"
   ]
  },
  {
   "cell_type": "code",
   "execution_count": null,
   "id": "df302c08",
   "metadata": {},
   "outputs": [],
   "source": []
  }
 ],
 "metadata": {
  "kernelspec": {
   "display_name": "Python 3 (ipykernel)",
   "language": "python",
   "name": "python3"
  },
  "language_info": {
   "codemirror_mode": {
    "name": "ipython",
    "version": 3
   },
   "file_extension": ".py",
   "mimetype": "text/x-python",
   "name": "python",
   "nbconvert_exporter": "python",
   "pygments_lexer": "ipython3",
   "version": "3.9.7"
  }
 },
 "nbformat": 4,
 "nbformat_minor": 5
}
